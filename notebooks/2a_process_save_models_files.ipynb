{
 "cells": [
  {
   "cell_type": "markdown",
   "id": "bdd67507-43ee-43f7-934e-b2060a14e33f",
   "metadata": {
    "jp-MarkdownHeadingCollapsed": true,
    "tags": []
   },
   "source": [
    "## Import Packages"
   ]
  },
  {
   "cell_type": "code",
   "execution_count": 1,
   "id": "d6b0114d-31f1-42e3-b5ac-2b266aeb5c8a",
   "metadata": {},
   "outputs": [],
   "source": [
    "import glob\n",
    "import warnings\n",
    "import numpy as np\n",
    "import xarray as xr\n",
    "from xgcm import Grid\n",
    "from datetime import datetime\n",
    "warnings.filterwarnings('ignore')"
   ]
  },
  {
   "cell_type": "markdown",
   "id": "2bc2e39b-8d41-4309-84e1-e32cc5dd3951",
   "metadata": {
    "jp-MarkdownHeadingCollapsed": true,
    "tags": []
   },
   "source": [
    "## User-Defined Fields"
   ]
  },
  {
   "cell_type": "code",
   "execution_count": 3,
   "id": "4a0d746b-53eb-4e53-9759-b95e92fab608",
   "metadata": {},
   "outputs": [],
   "source": [
    "AUTHOR   = 'Savannah L. Ferretti'\n",
    "EMAIL    = 'savannah.ferretti@uci.edu'\n",
    "FILEDIR  = '/ocean/projects/atm200007p/sferrett/Repos/monsoon-pr/data/raw/models'\n",
    "SAVEDIR  = '/ocean/projects/atm200007p/sferrett/Repos/monsoon-pr/data/interim'\n",
    "YEARS    = [2000,2001,2002,2003,2004,2005,2006,2007,2008,2009,2010,2011,2012,2013,2014]\n",
    "MONTHS   = [6,7,8]\n",
    "LATRANGE = (0.,30.) \n",
    "LONRANGE = (50.,90.)\n",
    "LEVS     = [500.,550.,600.,650.,700.,750.,775.,800.,825.,850.,875.,900.,925.,950.,975.,1000.]\n",
    "MODELS   = [\n",
    "    # 'AWI-ESM-1-1-LR',\n",
    "    # 'BCC-CSM2-MR',\n",
    "    # 'CESM2',\n",
    "    # 'CMCC-CM2-SR5',\n",
    "    # 'CMCC-ESM2',\n",
    "    # 'CanESM5',\n",
    "    # 'FGOALS-g3',\n",
    "    # 'GISS-E2-1-G',\n",
    "    # 'IITM-ESM',\n",
    "    # 'MIROC-ES2L',\n",
    "    # 'MIROC6',\n",
    "    # 'MPI-ESM-1-2-HAM',\n",
    "    # 'MPI-ESM1-2-HR',\n",
    "    # 'MPI-ESM1-2-LR',\n",
    "    # 'MRI-ESM2-0',\n",
    "    # 'NESM3',\n",
    "    # 'NorESM2-MM',\n",
    "    # 'SAM0-UNICON',\n",
    "    # 'TaiESM1',\n",
    "]"
   ]
  },
  {
   "cell_type": "markdown",
   "id": "d69777ea-54e2-4c10-9408-147263f03567",
   "metadata": {
    "jp-MarkdownHeadingCollapsed": true,
    "tags": []
   },
   "source": [
    "## Functions"
   ]
  },
  {
   "cell_type": "code",
   "execution_count": null,
   "id": "d4ee9db5-0ea6-426a-958d-7747ee6f9d31",
   "metadata": {},
   "outputs": [],
   "source": [
    "def load(model,varname,filedir=FILEDIR):\n",
    "    files = sorted(glob.glob(f'{filedir}/{varname}*{model}*.nc'))\n",
    "    data  = xr.open_mfdataset(files)\n",
    "    frequency = data.attrs['table_id']\n",
    "    if varname == 'pr' and frequency != '3hr':\n",
    "        data.coords['time'] = data.time.dt.floor('3H')\n",
    "        data = data.groupby('time').mean()\n",
    "    elif (varname == 'ta' or varname == 'hus') and frequency != '6hrLev':\n",
    "        data.coords['time'] = data.time.dt.floor('6H')\n",
    "        data = data.groupby('time').first()            \n",
    "    return data"
   ]
  },
  {
   "cell_type": "code",
   "execution_count": null,
   "id": "2b0ddf06-678a-4c18-9143-a3a7488bac4d",
   "metadata": {},
   "outputs": [],
   "source": [
    "def preprocess(data,shape):\n",
    "    if shape == '3D':\n",
    "        dims = ['time','lat','lon']\n",
    "    elif shape == '4D':\n",
    "        dims = ['time','lat','lon','lev']\n",
    "    data = data.drop_dims(set(data.dims)-{*dims})\n",
    "    for dim in dims:\n",
    "        if dim == 'time' and data.coords[dim].dtype.kind != 'M':\n",
    "            data.coords[dim] = data.indexes[dim].to_datetimeindex()\n",
    "        elif dim != 'time':\n",
    "            data.coords[dim] = data.coords[dim].astype(float)\n",
    "            # if dim == 'lon' and (data.coords[dim].min() >= 0 and data.coords[dim].max() <= 360):\n",
    "            #     data.coords[dim] = ((data.coords[dim]+180)%360)-180\n",
    "    data = data.sortby(dims).transpose(*dims)\n",
    "    return data\n",
    "\n",
    "def subset(data,years=YEARS,months=MONTHS,latrange=LATRANGE,lonrange=LONRANGE):\n",
    "    data = data.sel(time=(data['time.year'].isin(years))&(data['time.month'].isin(months)))\n",
    "    data = data.sel(lat=slice(*latrange),lon=slice(*lonrange))\n",
    "    return data\n",
    "\n",
    "def interpolate(data,varname,levs=LEVS):\n",
    "    levtype = data.lev.attrs['standard_name']\n",
    "    if levtype == 'alevel':\n",
    "        p = -1*data.lev\n",
    "        data['lev'] = p\n",
    "        dims = ['time','lat','lon','lev']\n",
    "        data = data.sortby(dims).transpose(*dims)\n",
    "        vardata = {data[varname].name:([*data[varname].dims],data[varname].data)}\n",
    "        coords  = {'time':data.time.data,'lat':data.lat.data,'lon':data.lon.data,'lev':data.lev.data}\n",
    "        data = xr.Dataset(vardata,coords)\n",
    "        interped = data[varname].interp(lev=LEVS,kwargs={'fill_value':'extrapolate'})\n",
    "    elif levtype == 'atmosphere_hybrid_sigma_pressure_coordinate' or levtype == 'atmosphere_sigma_coordinate':\n",
    "        if 'p0' in list(data.variables): \n",
    "            p = data.a*data.p0 + data.b*data.ps\n",
    "        elif 'ap' in list(data.variables):\n",
    "            p = data.ap + data.b*data.ps\n",
    "        elif 'ptop' in list(data.variables):\n",
    "            p = data.ptop + data.lev*(data.ps-data.ptop)\n",
    "        p = p/100\n",
    "        dims = ['time','lat','lon','lev']\n",
    "        p = p.sortby(dims).transpose(*dims)\n",
    "        vardata = {data[varname].name:([*data[varname].dims],data[varname].data),'p':([*p.dims],p.data)}\n",
    "        coords  = {'time':data.time.data,'lat':data.lat.data,'lon':data.lon.data,'lev':data.lev.data}\n",
    "        data = xr.Dataset(vardata,coords)    \n",
    "        grid = Grid(data,coords={'Z':{'center':'lev'}},periodic=False)\n",
    "        interped = grid.transform(data[varname],'Z',np.array(LEVS),target_data=data.p,method='log',mask_edges=False).rename({'p':'lev'})\n",
    "    if varname == 'ta':\n",
    "        interped.name = 't'\n",
    "    elif varname == 'hus':\n",
    "        interped.name = 'q'\n",
    "    return interped"
   ]
  },
  {
   "cell_type": "code",
   "execution_count": 40,
   "id": "1c42abef-ac67-4156-8703-9dba9bd3ce8f",
   "metadata": {},
   "outputs": [],
   "source": [
    "def dataset(data,longname,units,model,frequency,author=AUTHOR,email=EMAIL):\n",
    "    varname = data.name\n",
    "    vardata = {data.name:([*data.dims],data.data)}\n",
    "    if 'lev' in data.dims:\n",
    "        coords = {'time':data.time.data,'lat':data.lat.data,'lon':data.lon.data,'lev':data.lev.data}\n",
    "    else:\n",
    "        coords = {'time':data.time.data,'lat':data.lat.data,'lon':data.lon.data}\n",
    "    data = xr.Dataset(vardata,coords)\n",
    "    data[varname].attrs = dict(long_name=longname,units=units)\n",
    "    data.time.attrs = dict(long_name='Time')\n",
    "    data.lat.attrs = dict(long_name='Latitude',units='°N')\n",
    "    data.lon.attrs = dict(long_name='Longitude',units='°E')\n",
    "    if 'lev' in data.dims:\n",
    "        data.lev.attrs = dict(long_name='Pressure level',units='hPa')\n",
    "    data.attrs = dict(source=model,frequency=frequency,\n",
    "                      history=f'Created on {datetime.today().strftime(\"%Y-%m-%d\")} by {author} ({email})')\n",
    "    return data\n",
    "    \n",
    "def save(data,model,savedir=SAVEDIR):\n",
    "    varname  = list(data.keys())[0]\n",
    "    return data.compute().to_netcdf(f'{savedir}/{model}_{varname}.nc',mode='w')"
   ]
  },
  {
   "cell_type": "markdown",
   "id": "f5772b2d-afac-4003-8f8b-883c30e49510",
   "metadata": {
    "jp-MarkdownHeadingCollapsed": true,
    "tags": []
   },
   "source": [
    "## Process & Save Variables"
   ]
  },
  {
   "cell_type": "code",
   "execution_count": 41,
   "id": "dd7d38ba-36dd-4b25-9f2a-4ebba6556481",
   "metadata": {},
   "outputs": [],
   "source": [
    "for model in MODELS:\n",
    "    \n",
    "    ds = load(model,'hus')\n",
    "    ds = preprocess(ds,shape='4D')\n",
    "    q  = interpolate(ds,varname='hus')\n",
    "    q  = dataset(q,longname='Specific humidity',units='kg/kg',frequency='6-hourly',model=model)\n",
    "    q  = subset(q)\n",
    "    save(q,model)\n",
    "    del ds,q\n",
    "    \n",
    "    ds = load(model,'ta')\n",
    "    ds = preprocess(ds,shape='4D')\n",
    "    t  = interpolate(ds,varname='ta')\n",
    "    t  = dataset(t,longname='Air temperature',units='K',frequency='6-hourly',model=model)\n",
    "    t  = subset(t)\n",
    "    save(t,model)\n",
    "    del t\n",
    "    \n",
    "    ps = ds.ps/100\n",
    "    ps = dataset(ps,longname='Surface pressure',units='hPa',frequency='6-hourly',model=model)\n",
    "    ps = subset(ps)\n",
    "    save(ps,model)\n",
    "    del ds,ps\n",
    "    \n",
    "    ds = load(model,'pr')\n",
    "    ds = preprocess(ds,shape='3D')\n",
    "    pr = ds.pr*86400\n",
    "    pr = pr.where(pr>=0,0)\n",
    "    pr = dataset(pr,longname='Precipitation flux',units='mm/day',frequency='3-hourly mean',model=model)\n",
    "    pr = subset(pr)\n",
    "    save(pr,model)\n",
    "    del ds,pr"
   ]
  }
 ],
 "metadata": {
  "kernelspec": {
   "display_name": "monsoon-pr",
   "language": "python",
   "name": "monsoon-pr"
  },
  "language_info": {
   "codemirror_mode": {
    "name": "ipython",
    "version": 3
   },
   "file_extension": ".py",
   "mimetype": "text/x-python",
   "name": "python",
   "nbconvert_exporter": "python",
   "pygments_lexer": "ipython3",
   "version": "3.9.12"
  }
 },
 "nbformat": 4,
 "nbformat_minor": 5
}
