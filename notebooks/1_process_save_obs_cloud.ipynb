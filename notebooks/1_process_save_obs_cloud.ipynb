{
 "cells": [
  {
   "cell_type": "markdown",
   "id": "5d22d0c9-e39f-4033-a767-81ed3f8621aa",
   "metadata": {
    "jp-MarkdownHeadingCollapsed": true,
    "tags": []
   },
   "source": [
    "## Import Packages"
   ]
  },
  {
   "cell_type": "code",
   "execution_count": 1,
   "id": "4f38b2be-cb9b-4c5e-9472-e8ab73faa1cc",
   "metadata": {},
   "outputs": [],
   "source": [
    "import gcsfs\n",
    "import fsspec\n",
    "import warnings\n",
    "import numpy as np\n",
    "import xarray as xr\n",
    "import planetary_computer\n",
    "from datetime import datetime\n",
    "import pystac_client as pystac\n",
    "warnings.filterwarnings('ignore')"
   ]
  },
  {
   "cell_type": "markdown",
   "id": "892d9549-e84f-4281-8475-da72744ad666",
   "metadata": {
    "jp-MarkdownHeadingCollapsed": true,
    "tags": []
   },
   "source": [
    "## User-Defined Fields"
   ]
  },
  {
   "cell_type": "code",
   "execution_count": 13,
   "id": "871799ff-87fe-41d5-ba9d-93b6b9a5b3ae",
   "metadata": {},
   "outputs": [],
   "source": [
    "AUTHOR   = 'Savannah L. Ferretti'\n",
    "EMAIL    = 'savannah.ferretti@uci.edu'\n",
    "SAVEDIR  = '/ocean/projects/atm200007p/sferrett/Repos/monsoon-pr/data/interim'\n",
    "YEARS    = [2000,2001,2002,2003,2004,2005,2006,2007,2008,2009,2010,2011,2012,2013,2014]\n",
    "MONTHS   = [6,7,8]\n",
    "LATRANGE = (0.,30.) \n",
    "LONRANGE = (50.,90.)\n",
    "LEVRANGE = (500.,1000.)"
   ]
  },
  {
   "cell_type": "markdown",
   "id": "d7fbb01a-3067-47c5-8fad-a036b92b2a59",
   "metadata": {
    "jp-MarkdownHeadingCollapsed": true,
    "tags": []
   },
   "source": [
    "## Functions"
   ]
  },
  {
   "cell_type": "code",
   "execution_count": null,
   "id": "508df6f3-c435-4df5-9bf1-b39185952226",
   "metadata": {},
   "outputs": [],
   "source": [
    "def get_era5():\n",
    "    url  = 'gs://gcp-public-data-arco-era5/ar/1959-2022-full_37-1h-0p25deg-chunk-1.zarr-v2/'\n",
    "    data = xr.open_zarr(url,decode_times=True)\n",
    "    data = data.rename({'latitude':'lat','longitude':'lon','level':'lev'})    \n",
    "    return data\n",
    "\n",
    "def get_imerg():\n",
    "    url = 'https://planetarycomputer.microsoft.com/api/stac/v1'\n",
    "    catalog = pystac.Client.open(url,modifier=planetary_computer.sign_inplace)\n",
    "    assets  = catalog.get_collection('gpm-imerg-hhr').assets['zarr-abfs']\n",
    "    data    = xr.open_zarr(fsspec.get_mapper(assets.href,**assets.extra_fields['xarray:storage_options']),consolidated=True)\n",
    "    return data"
   ]
  },
  {
   "cell_type": "code",
   "execution_count": 3,
   "id": "be7591ad-6cf6-4587-b0ba-8b22a5638fbb",
   "metadata": {},
   "outputs": [],
   "source": [
    "def preprocess(data,shape):\n",
    "    if shape == '3D':\n",
    "        dims = ['time','lat','lon']\n",
    "    elif shape == '4D':\n",
    "        dims = ['time','lat','lon','lev']\n",
    "    data = data.drop_dims(set(data.dims)-{*dims})\n",
    "    for dim in dims:\n",
    "        if dim == 'time' and data.coords[dim].dtype.kind != 'M':\n",
    "            data.coords[dim] = data.indexes[dim].to_datetimeindex()\n",
    "        elif dim != 'time':\n",
    "            data.coords[dim] = data.coords[dim].astype(float)\n",
    "            # if dim == 'lon' and (data.coords[dim].min() >= 0 and data.coords[dim].max() <= 360):\n",
    "            #     data.coords[dim] = ((data.coords[dim]+180)%360)-180\n",
    "    data = data.sortby(dims).transpose(*dims)\n",
    "    return data"
   ]
  },
  {
   "cell_type": "code",
   "execution_count": null,
   "id": "84988b0c-3e73-4080-a27d-1789d21edb6a",
   "metadata": {},
   "outputs": [],
   "source": [
    "def subset(data,years=YEARS,months=MONTHS,latrange=LATRANGE,lonrange=LONRANGE,levrange=LEVRANGE):\n",
    "    data = data.sel(time=(data['time.year'].isin(years))&(data['time.month'].isin(months)))\n",
    "    data = data.sel(lat=slice(*latrange),lon=slice(*lonrange))\n",
    "    if 'lev' in data.dims:\n",
    "        data = data.sel(lev=slice(*levrange))\n",
    "    return data\n",
    "\n",
    "def resample(data,frequency):\n",
    "    if frequency == '3-hourly mean':\n",
    "        data.coords['time'] = data.time.dt.floor('3H')\n",
    "        data = data.groupby('time').mean()\n",
    "    elif frequency == '6-hourly':\n",
    "        data.coords['time'] = data.time.dt.floor('6H')\n",
    "        data = data.groupby('time').first() \n",
    "    return data\n",
    "\n",
    "def regrid(data,resolution,latrange=LATRANGE,lonrange=LONRANGE):\n",
    "    lats = np.arange(LATRANGE[0],LATRANGE[1]+resolution,resolution)\n",
    "    lons = np.arange(LONRANGE[0],LONRANGE[1]+resolution,resolution)\n",
    "    data = data.interp(lat=lats,lon=lons,kwargs={'fill_value':'extrapolate'})\n",
    "    return data"
   ]
  },
  {
   "cell_type": "code",
   "execution_count": null,
   "id": "700f2968-18cf-4b36-9d57-d2c0a0e68110",
   "metadata": {},
   "outputs": [],
   "source": [
    "def dataset(data,varname,longname,units,model,frequency,author=AUTHOR,email=EMAIL):\n",
    "    vardata = {varname:([*data.dims],data.data)}\n",
    "    if 'lev' in data.dims:\n",
    "        coords = {'time':data.time.data,'lat':data.lat.data,'lon':data.lon.data,'lev':data.lev.data}\n",
    "    else:\n",
    "        coords = {'time':data.time.data,'lat':data.lat.data,'lon':data.lon.data}\n",
    "    data = xr.Dataset(vardata,coords)\n",
    "    data[varname].attrs = dict(long_name=longname,units=units)\n",
    "    data.time.attrs = dict(long_name='Time')\n",
    "    data.lat.attrs = dict(long_name='Latitude',units='°N')\n",
    "    data.lon.attrs = dict(long_name='Longitude',units='°E')\n",
    "    if 'lev' in data.dims:\n",
    "        data.lev.attrs = dict(long_name='Pressure level',units='hPa')\n",
    "    data.attrs = dict(source=model,frequency=frequency,\n",
    "                      history=f'Created on {datetime.today().strftime(\"%Y-%m-%d\")} by {author} ({email})')\n",
    "    return data\n",
    "\n",
    "def save(data,gridtype,savedir=SAVEDIR):\n",
    "    varname = list(data.keys())[0]\n",
    "    return data.compute().to_netcdf(f'{SAVEDIR}/OBS-{gridtype}_{varname}.nc')"
   ]
  },
  {
   "cell_type": "markdown",
   "id": "9aadd0d2-a6e1-4dcd-9e98-fab546bd0bda",
   "metadata": {
    "jp-MarkdownHeadingCollapsed": true,
    "tags": []
   },
   "source": [
    "## Import Data"
   ]
  },
  {
   "cell_type": "code",
   "execution_count": 4,
   "id": "d9f4e9aa-8db9-4e35-b8d7-8f1a78132022",
   "metadata": {},
   "outputs": [],
   "source": [
    "era5  = get_era5()\n",
    "era5  = preprocess(era5,shape='4D')"
   ]
  },
  {
   "cell_type": "code",
   "execution_count": null,
   "id": "8de5ad5e-043d-4b57-8339-178c87e09d28",
   "metadata": {},
   "outputs": [],
   "source": [
    "imerg = get_imerg()\n",
    "imerg = preprocess(imerg,shape='3D')"
   ]
  },
  {
   "cell_type": "markdown",
   "id": "25415b1b-d2c1-474f-a1ca-91360c2eddd3",
   "metadata": {
    "jp-MarkdownHeadingCollapsed": true,
    "tags": []
   },
   "source": [
    "## Process Variables"
   ]
  },
  {
   "cell_type": "code",
   "execution_count": null,
   "id": "b114b937-9986-4266-800d-6118e9c03125",
   "metadata": {},
   "outputs": [],
   "source": [
    "q = era5.specific_humidity\n",
    "q = subset(q)\n",
    "q = resample(q,frequency='6-hourly')\n",
    "q = dataset(q,'q','Specific humidity','kg/kg','ERA5','6-hourly')"
   ]
  },
  {
   "cell_type": "code",
   "execution_count": null,
   "id": "297c4b15-5b08-42e2-a53d-be639327e052",
   "metadata": {},
   "outputs": [],
   "source": [
    "t = era5.temperature\n",
    "t = subset(t)\n",
    "t = resample(t,frequency='6-hourly')\n",
    "t = dataset(t,'t','Air temperature','K','ERA5','6-hourly')"
   ]
  },
  {
   "cell_type": "code",
   "execution_count": null,
   "id": "0153ef6c-496c-4201-af2c-2247fc6a1c68",
   "metadata": {},
   "outputs": [],
   "source": [
    "ps = era5.surface_pressure/100\n",
    "ps = subset(ps)\n",
    "ps = resample(ps,frequency='6-hourly')\n",
    "ps = dataset(ps,'ps','Surface pressure','hPa','ERA5','6-hourly')"
   ]
  },
  {
   "cell_type": "code",
   "execution_count": null,
   "id": "5c322e4f-8ee2-47f9-9178-0ed4a91614fc",
   "metadata": {},
   "outputs": [],
   "source": [
    "pr = imerg.precipitationCal*24\n",
    "pr = subset(pr.where(pr>=0,0))\n",
    "pr = regrid(pr,resolution=0.25)\n",
    "pr = resample(pr,'3-hourly mean')\n",
    "pr = dataset(pr,'pr','Precipitation flux','mm/day','IMERG V06','3-hourly mean')"
   ]
  },
  {
   "cell_type": "markdown",
   "id": "68b9f660-c01d-4493-8902-743ecf6b6ef8",
   "metadata": {
    "jp-MarkdownHeadingCollapsed": true,
    "tags": []
   },
   "source": [
    "## Save Variables"
   ]
  },
  {
   "cell_type": "code",
   "execution_count": null,
   "id": "e5713226-4321-4457-b00a-9dc97c4aba32",
   "metadata": {},
   "outputs": [],
   "source": [
    "save(q,gridtype='HR') # 1h 45m 54s\n",
    "save(regrid(q,resolution=2.0),gridtype='LR')"
   ]
  },
  {
   "cell_type": "code",
   "execution_count": null,
   "id": "1bceec9a-8c2c-4970-b5ad-a0e579108be5",
   "metadata": {},
   "outputs": [],
   "source": [
    "save(t,gridtype='HR') # 1h 49m 20s\n",
    "save(regrid(t,resolution=2.0),gridtype='LR')"
   ]
  },
  {
   "cell_type": "code",
   "execution_count": null,
   "id": "94856bda-21b8-4b74-9b8e-a3f8138da663",
   "metadata": {},
   "outputs": [],
   "source": [
    "save(ps,gridtype='HR') # 3m 40s\n",
    "save(regrid(ps,resolution=2.0),gridtype='LR')"
   ]
  },
  {
   "cell_type": "code",
   "execution_count": null,
   "id": "950a9b40-cfec-4c2f-b8c6-9b88978d623f",
   "metadata": {},
   "outputs": [],
   "source": [
    "save(pr,gridtype='HR') # 15m 14s\n",
    "save(regrid(pr,resolution=2.0),gridtype='LR')"
   ]
  }
 ],
 "metadata": {
  "kernelspec": {
   "display_name": "monsoon-pr",
   "language": "python",
   "name": "monsoon-pr"
  },
  "language_info": {
   "codemirror_mode": {
    "name": "ipython",
    "version": 3
   },
   "file_extension": ".py",
   "mimetype": "text/x-python",
   "name": "python",
   "nbconvert_exporter": "python",
   "pygments_lexer": "ipython3",
   "version": "3.9.12"
  }
 },
 "nbformat": 4,
 "nbformat_minor": 5
}
