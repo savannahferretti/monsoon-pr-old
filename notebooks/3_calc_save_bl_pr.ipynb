{
 "cells": [
  {
   "cell_type": "markdown",
   "id": "e6481900-281f-4198-9509-49800d49e035",
   "metadata": {
    "jp-MarkdownHeadingCollapsed": true,
    "tags": []
   },
   "source": [
    "## Import Packages"
   ]
  },
  {
   "cell_type": "code",
   "execution_count": 1,
   "id": "aaf11981-c9c9-44d9-b2e8-4401d774cd5c",
   "metadata": {},
   "outputs": [],
   "source": [
    "import glob\n",
    "import warnings\n",
    "import numpy as np\n",
    "import xarray as xr\n",
    "from datetime import datetime\n",
    "warnings.filterwarnings('ignore')"
   ]
  },
  {
   "cell_type": "markdown",
   "id": "5ec08d6d-d0c5-4f3d-934b-8bf8b445e144",
   "metadata": {
    "jp-MarkdownHeadingCollapsed": true,
    "tags": []
   },
   "source": [
    "## User-Defined Fields"
   ]
  },
  {
   "cell_type": "code",
   "execution_count": 2,
   "id": "e616623b-4fec-46b5-9d02-21853e2c8a65",
   "metadata": {},
   "outputs": [],
   "source": [
    "AUTHOR   = 'Savannah L. Ferretti'\n",
    "EMAIL    = 'savannah.ferretti@uci.edu'\n",
    "FILEDIR  = '/ocean/projects/atm200007p/sferrett/Repos/monsoon-pr/data/interim'\n",
    "SAVEDIR  = '/ocean/projects/atm200007p/sferrett/Repos/monsoon-pr/data/processed'\n",
    "LATRANGE = (0.,30.) #(7.,22.) \n",
    "LONRANGE = (50.,90.) #(62.,78.)\n",
    "SOURCES  = [\n",
    "    'OBS-HR',\n",
    "    # 'OBS-LR',\n",
    "    # 'AWI-ESM-1-1-LR',\n",
    "    # 'BCC-CSM2-MR',\n",
    "    # 'CESM2',\n",
    "    # 'CMCC-CM2-SR5',\n",
    "    # 'CMCC-ESM2',\n",
    "    # 'CanESM5',\n",
    "    # 'FGOALS-g3',\n",
    "    # 'GISS-E2-1-G',\n",
    "    # 'IITM-ESM',\n",
    "    # 'MIROC-ES2L',\n",
    "    # 'MIROC6',\n",
    "    # 'MPI-ESM-1-2-HAM',\n",
    "    # 'MPI-ESM1-2-HR',\n",
    "    # 'MPI-ESM1-2-LR',\n",
    "    # 'MRI-ESM2-0',\n",
    "    # 'NESM3',\n",
    "    # 'NorESM2-MM',\n",
    "    # 'SAM0-UNICON',\n",
    "    # 'TaiESM1',\n",
    "]"
   ]
  },
  {
   "cell_type": "markdown",
   "id": "a8c91a58-4acb-4588-a14e-8464833b2f8d",
   "metadata": {
    "jp-MarkdownHeadingCollapsed": true,
    "tags": []
   },
   "source": [
    "## Functions"
   ]
  },
  {
   "cell_type": "code",
   "execution_count": 3,
   "id": "825f5b6a-6831-4259-b526-63245bc01d71",
   "metadata": {},
   "outputs": [],
   "source": [
    "def load(source,varname,filedir=FILEDIR,latrange=LATRANGE,lonrange=LONRANGE):\n",
    "    file = f'{filedir}/{source}_{varname}.nc'\n",
    "    data = xr.open_dataset(file)\n",
    "    if 'lev' in data.dims:\n",
    "        data = data.transpose('lev','time','lat','lon')\n",
    "    data = data.sel(lat=slice(*latrange),lon=slice(*lonrange))\n",
    "    return data[varname].load()"
   ]
  },
  {
   "cell_type": "code",
   "execution_count": 4,
   "id": "eff2fb8b-7273-4741-a5ab-7dedf1ad4b2e",
   "metadata": {},
   "outputs": [],
   "source": [
    "def calc_thetae(p,t,q):\n",
    "    p0 = 1000.\n",
    "    rv = 461.5\n",
    "    rd = 287.04\n",
    "    kappad  = 0.2854\n",
    "    epsilon = rd/rv\n",
    "    r  = q/(1.-q) \n",
    "    e = (t.lev*r)/(epsilon+r)\n",
    "    tl = 2840./(3.5*np.log(t)-np.log(e)-4.805)+55.\n",
    "    thetae = t*(p0/p)**(kappad*(1.-0.28*r))*np.exp((3.376/tl-0.00254)*1000.*r*(1.+0.81*r))\n",
    "    return thetae\n",
    "\n",
    "def calc_es(t):\n",
    "    c0 = 0.6105851e+03\n",
    "    c1 = 0.4440316e+02\n",
    "    c2 = 0.1430341e+01\n",
    "    c3 = 0.2641412e-01\n",
    "    c4 = 0.2995057e-03\n",
    "    c5 = 0.2031998e-05\n",
    "    c6 = 0.6936113e-08\n",
    "    c7 = 0.2564861e-11\n",
    "    c8 = -.3704404e-13\n",
    "    tc = t-273.15\n",
    "    bolton = 6.112*np.exp(17.67*tc/(243.5+tc))\n",
    "    poly   = (c0+tc*(c1+tc*(c2+tc*(c3+tc*(c4+tc*(c5+tc*(c6+tc*(c7+tc*c8))))))))/100.\n",
    "    es = np.where(tc<-80.,bolton,poly)\n",
    "    return es\n",
    "\n",
    "def calc_qs(p,t):\n",
    "    rv = 461.5\n",
    "    rd = 287.04\n",
    "    epsilon = rd/rv\n",
    "    es = calc_es(t)\n",
    "    qs = (epsilon*es)/(p-es*(1.-epsilon))\n",
    "    return qs\n",
    "\n",
    "def calc_wb(ps,pbltop,lfttop):\n",
    "    pblthickness = ps-pbltop\n",
    "    lftthickness = pbltop-lfttop\n",
    "    wb = (pblthickness/lftthickness)*np.log((pblthickness+lftthickness)/pblthickness)\n",
    "    return wb\n",
    "\n",
    "def get_p_above(a,levels,side):\n",
    "    idx    = np.searchsorted(levels,a,side=side)\n",
    "    p_above = levels[np.maximum(idx-1,0)]\n",
    "    return p_above\n",
    "\n",
    "def get_p_below(a,levels,side):\n",
    "    idx    = np.searchsorted(levels,a,side=side)\n",
    "    p_below = levels[np.minimum(idx,len(levels)-1)]\n",
    "    return p_below\n",
    "\n",
    "def get_layer_average(data,a,b):\n",
    "    a,b,data = a.load(),b.load(),data.load()\n",
    "    pabove = xr.apply_ufunc(get_p_above,a,kwargs={'levels':np.array(data.lev),'side':'right'})\n",
    "    pbelow = xr.apply_ufunc(get_p_below,a,kwargs={'levels':np.array(data.lev),'side':'right'})\n",
    "    fabove = data.sel({'lev':pabove})\n",
    "    fbelow = data.sel({'lev':pbelow})\n",
    "    correction = -fabove/2*(pbelow-pabove)*(a<data.lev[-1])\n",
    "    pbelow += (pbelow==pabove) \n",
    "    belowintegral = (a-pabove)*fabove+(fbelow-fabove)*(a-pabove)**2/(pbelow-pabove)/2+correction\n",
    "    innerintegral = (data*(data.lev<=a)*(data.lev>=b)).integrate('lev')\n",
    "    pabove = xr.apply_ufunc(get_p_above,b,kwargs={'levels':np.array(data.lev),'side':'left'})\n",
    "    pbelow = xr.apply_ufunc(get_p_below,b,kwargs={'levels':np.array(data.lev),'side':'left'})\n",
    "    fabove = data.sel({'lev':pabove})\n",
    "    fbelow = data.sel({'lev':pbelow})\n",
    "    correction = -fbelow/2*(pbelow-pabove)*(b>data.lev[0])\n",
    "    pabove -= (pbelow==pabove) \n",
    "    aboveintegral = (pbelow-b)*fabove+(fbelow-fabove)*(pbelow-pabove)*(1-((b-pabove)/(pbelow-pabove))**2)/2+correction\n",
    "    layeraverage  = (belowintegral+innerintegral+aboveintegral)/(a-b)\n",
    "    return layeraverage\n",
    "\n",
    "def calc_bl_terms(wb,wl,thetaeb,thetael,thetaels):\n",
    "    g = 9.81\n",
    "    kappal  = 3.\n",
    "    thetae0 = 340.\n",
    "    cape    = ((thetaeb-thetaels)/thetaels)*thetae0\n",
    "    subsat  = ((thetaels-thetael)/thetaels)*thetae0\n",
    "    bl      = (g/(kappal*thetae0))*((wb*cape)-(wl*subsat))\n",
    "    return cape,subsat,bl\n",
    "\n",
    "def align_pr(pr,t):\n",
    "    matches = []\n",
    "    for time in t.time.values:\n",
    "        closestidx = np.argmin(np.abs(pr.time.values - time))\n",
    "        matches.append(closestidx)\n",
    "    aligned = pr.isel(time=matches)\n",
    "    aligned['time'] = t.time\n",
    "    return aligned"
   ]
  },
  {
   "cell_type": "code",
   "execution_count": 18,
   "id": "2935e87e-a27d-4a11-ad04-19a7e23f535e",
   "metadata": {},
   "outputs": [],
   "source": [
    "def dataset(pr,bl,cape,subsat,source,author=AUTHOR,email=EMAIL):\n",
    "    vardata = {'pr':([*pr.dims],pr.data),\n",
    "               'bl':([*bl.dims],bl.data),\n",
    "               'cape':([*cape.dims],cape.data),\n",
    "               'subsat':([*subsat.dims],subsat.data)}\n",
    "    coords  = {'time':bl.time.data,'lat':bl.lat.data,'lon':bl.lon.data}\n",
    "    data = xr.Dataset(vardata,coords)\n",
    "    data.pr.attrs     = dict(long_name='Precipitation flux',units='mm/day')\n",
    "    data.bl.attrs     = dict(long_name='Average buoyancy in the lower troposphere',units='m/s²')\n",
    "    data.cape.attrs   = dict(long_name='Undilute plume buoyancy',units='K')\n",
    "    data.subsat.attrs = dict(long_name='Subsaturation in the lower-free troposphere',units='K')\n",
    "    data.time.attrs   = dict(long_name='Time')\n",
    "    data.lat.attrs    = dict(long_name='Latitude',units='$^\\circ$N')\n",
    "    data.lon.attrs    = dict(long_name='Longitude',units='$^\\circ$E')\n",
    "    data.attrs        = dict(source=source,\n",
    "                             description='Calculated following Ahmed & Neelin (2021) Eq. 1',\n",
    "                             history=f'Created on {datetime.today().strftime(\"%Y-%m-%d\")} by {author} ({email})')\n",
    "    return data\n",
    "\n",
    "def save(data,source,savedir=SAVEDIR):\n",
    "    return data.to_netcdf(f'{savedir}/{source}_bl-pr_FULL.nc')"
   ]
  },
  {
   "cell_type": "markdown",
   "id": "716a12ac-e44b-4403-9a24-d9390a8d3b53",
   "metadata": {
    "jp-MarkdownHeadingCollapsed": true,
    "tags": []
   },
   "source": [
    "## Process & Save Data"
   ]
  },
  {
   "cell_type": "code",
   "execution_count": null,
   "id": "71e9c377-20d1-4ee1-83de-1419e673e1af",
   "metadata": {},
   "outputs": [],
   "source": [
    "for source in SOURCES:\n",
    "    \n",
    "    pr = load(source,'pr')\n",
    "    ps = load(source,'ps')\n",
    "    t  = load(source,'t')\n",
    "    q  = load(source,'q')\n",
    "    p  = (t.lev).expand_dims({'time':t.time,'lat':t.lat,'lon':t.lon},(1,2,3))\n",
    "\n",
    "    qs = calc_qs(p,t)\n",
    "    thetae  = calc_thetae(p,t,q)\n",
    "    thetaes = calc_thetae(p,t,qs)\n",
    "\n",
    "    pbltop = ps-100.\n",
    "    lfttop = xr.full_like(ps,500.)   \n",
    "    wb = calc_wb(ps,pbltop,lfttop)\n",
    "    wl = 1-wb\n",
    "    thetaeb  = get_layer_average(thetae,ps,pbltop)*np.sqrt(-1+2*(ps>lfttop))\n",
    "    thetael  = get_layer_average(thetae,pbltop,lfttop)\n",
    "    thetaels = get_layer_average(thetaes,pbltop,lfttop)\n",
    "\n",
    "    cape,subsat,bl = calc_bl_terms(wb,wl,thetaeb,thetael,thetaels)\n",
    "    alignedpr = align_pr(pr,t)\n",
    "    ds = dataset(alignedpr,bl,cape,subsat,source)\n",
    "    save(ds,source)"
   ]
  }
 ],
 "metadata": {
  "kernelspec": {
   "display_name": "monsoon-pr",
   "language": "python",
   "name": "monsoon-pr"
  },
  "language_info": {
   "codemirror_mode": {
    "name": "ipython",
    "version": 3
   },
   "file_extension": ".py",
   "mimetype": "text/x-python",
   "name": "python",
   "nbconvert_exporter": "python",
   "pygments_lexer": "ipython3",
   "version": "3.9.12"
  }
 },
 "nbformat": 4,
 "nbformat_minor": 5
}
